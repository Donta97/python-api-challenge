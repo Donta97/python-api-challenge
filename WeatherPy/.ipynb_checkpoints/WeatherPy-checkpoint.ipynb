{
 "cells": [
  {
   "cell_type": "markdown",
   "metadata": {},
   "source": [
    "# WeatherPy\n",
    "----\n",
    "\n",
    "#### Note\n",
    "* Instructions have been included for each segment. You do not have to follow them exactly, but they are included to help you think through the steps."
   ]
  },
  {
   "cell_type": "code",
   "execution_count": 1,
   "metadata": {
    "scrolled": true
   },
   "outputs": [],
   "source": [
    "# Dependencies and Setup\n",
    "import matplotlib.pyplot as plt\n",
    "import pandas as pd\n",
    "import numpy as np\n",
    "import requests\n",
    "import time\n",
    "from scipy.stats import linregress\n",
    "\n",
    "# Import API key\n",
    "from api_keys import weather_api_key\n",
    "\n",
    "# Incorporated citipy to determine city based on latitude and longitude\n",
    "from citipy import citipy\n",
    "\n",
    "# Output File (CSV)\n",
    "output_data_file = \"output_data/cities.csv\"\n",
    "\n",
    "# Range of latitudes and longitudes\n",
    "lat_range = (-90, 90)\n",
    "lng_range = (-180, 180)"
   ]
  },
  {
   "cell_type": "markdown",
   "metadata": {},
   "source": [
    "## Generate Cities List"
   ]
  },
  {
   "cell_type": "code",
   "execution_count": 2,
   "metadata": {},
   "outputs": [
    {
     "data": {
      "text/plain": [
       "625"
      ]
     },
     "execution_count": 2,
     "metadata": {},
     "output_type": "execute_result"
    }
   ],
   "source": [
    "# List for holding lat_lngs and cities\n",
    "lat_lngs = []\n",
    "cities = []\n",
    "\n",
    "# Create a set of random lat and lng combinations\n",
    "lats = np.random.uniform(lat_range[0], lat_range[1], size=1500)\n",
    "lngs = np.random.uniform(lng_range[0], lng_range[1], size=1500)\n",
    "lat_lngs = zip(lats, lngs)\n",
    "\n",
    "# Identify nearest city for each lat, lng combination\n",
    "for lat_lng in lat_lngs:\n",
    "    city = citipy.nearest_city(lat_lng[0], lat_lng[1]).city_name\n",
    "    \n",
    "    # If the city is unique, then add it to a our cities list\n",
    "    if city not in cities:\n",
    "        cities.append(city)\n",
    "\n",
    "# Print the city count to confirm sufficient count\n",
    "len(cities)"
   ]
  },
  {
   "cell_type": "markdown",
   "metadata": {},
   "source": [
    "### Perform API Calls\n",
    "* Perform a weather check on each city using a series of successive API calls.\n",
    "* Include a print log of each city as it'sbeing processed (with the city number and city name).\n"
   ]
  },
  {
   "cell_type": "code",
   "execution_count": 3,
   "metadata": {
    "scrolled": true
   },
   "outputs": [],
   "source": [
    "new_cities = []\n",
    "cloudiness = []\n",
    "country = []\n",
    "date = []\n",
    "humidity = []\n",
    "temp = []\n",
    "lat = []\n",
    "lng = []\n",
    "wind = []"
   ]
  },
  {
   "cell_type": "code",
   "execution_count": null,
   "metadata": {},
   "outputs": [
    {
     "name": "stdout",
     "output_type": "stream",
     "text": [
      "------------------------\n",
      "Beginning Data Retrieval\n",
      "------------------------\n",
      "Processing record 1 of set 0 | albany\n",
      "http://api.openweathermap.org/data/2.5/weather?units=Imperial&APPID=c27676020d2317d0bc4c0da9a0b6cabc\n",
      "Processing record 2 of set 0 | victoria\n",
      "http://api.openweathermap.org/data/2.5/weather?units=Imperial&APPID=c27676020d2317d0bc4c0da9a0b6cabc\n",
      "Processing record 3 of set 0 | santa cruz\n",
      "http://api.openweathermap.org/data/2.5/weather?units=Imperial&APPID=c27676020d2317d0bc4c0da9a0b6cabc\n",
      "Processing record 4 of set 0 | mehamn\n",
      "http://api.openweathermap.org/data/2.5/weather?units=Imperial&APPID=c27676020d2317d0bc4c0da9a0b6cabc\n",
      "Processing record 5 of set 0 | katherine\n",
      "http://api.openweathermap.org/data/2.5/weather?units=Imperial&APPID=c27676020d2317d0bc4c0da9a0b6cabc\n",
      "Processing record 6 of set 0 | punta arenas\n",
      "http://api.openweathermap.org/data/2.5/weather?units=Imperial&APPID=c27676020d2317d0bc4c0da9a0b6cabc\n",
      "Processing record 7 of set 0 | bonavista\n",
      "http://api.openweathermap.org/data/2.5/weather?units=Imperial&APPID=c27676020d2317d0bc4c0da9a0b6cabc\n",
      "Processing record 8 of set 0 | mende\n",
      "http://api.openweathermap.org/data/2.5/weather?units=Imperial&APPID=c27676020d2317d0bc4c0da9a0b6cabc\n",
      "Processing record 9 of set 0 | tabuk\n",
      "http://api.openweathermap.org/data/2.5/weather?units=Imperial&APPID=c27676020d2317d0bc4c0da9a0b6cabc\n",
      "Processing record 10 of set 0 | vostok\n",
      "http://api.openweathermap.org/data/2.5/weather?units=Imperial&APPID=c27676020d2317d0bc4c0da9a0b6cabc\n",
      "Processing record 11 of set 0 | kawalu\n",
      "http://api.openweathermap.org/data/2.5/weather?units=Imperial&APPID=c27676020d2317d0bc4c0da9a0b6cabc\n",
      "Processing record 12 of set 0 | hambantota\n",
      "http://api.openweathermap.org/data/2.5/weather?units=Imperial&APPID=c27676020d2317d0bc4c0da9a0b6cabc\n",
      "Processing record 13 of set 0 | sorvag\n",
      "http://api.openweathermap.org/data/2.5/weather?units=Imperial&APPID=c27676020d2317d0bc4c0da9a0b6cabc\n",
      "City not found!\n",
      "Processing record 14 of set 0 | cotui\n",
      "http://api.openweathermap.org/data/2.5/weather?units=Imperial&APPID=c27676020d2317d0bc4c0da9a0b6cabc\n",
      "Processing record 15 of set 0 | rusne\n",
      "http://api.openweathermap.org/data/2.5/weather?units=Imperial&APPID=c27676020d2317d0bc4c0da9a0b6cabc\n",
      "Processing record 16 of set 0 | taolanaro\n",
      "http://api.openweathermap.org/data/2.5/weather?units=Imperial&APPID=c27676020d2317d0bc4c0da9a0b6cabc\n",
      "City not found!\n",
      "Processing record 17 of set 0 | sterling\n",
      "http://api.openweathermap.org/data/2.5/weather?units=Imperial&APPID=c27676020d2317d0bc4c0da9a0b6cabc\n",
      "Processing record 18 of set 0 | mataura\n",
      "http://api.openweathermap.org/data/2.5/weather?units=Imperial&APPID=c27676020d2317d0bc4c0da9a0b6cabc\n",
      "Processing record 19 of set 0 | qaqortoq\n",
      "http://api.openweathermap.org/data/2.5/weather?units=Imperial&APPID=c27676020d2317d0bc4c0da9a0b6cabc\n",
      "Processing record 20 of set 0 | sarmanovo\n",
      "http://api.openweathermap.org/data/2.5/weather?units=Imperial&APPID=c27676020d2317d0bc4c0da9a0b6cabc\n",
      "Processing record 21 of set 0 | puerto ayora\n",
      "http://api.openweathermap.org/data/2.5/weather?units=Imperial&APPID=c27676020d2317d0bc4c0da9a0b6cabc\n",
      "Processing record 22 of set 0 | kiunga\n",
      "http://api.openweathermap.org/data/2.5/weather?units=Imperial&APPID=c27676020d2317d0bc4c0da9a0b6cabc\n",
      "Processing record 23 of set 0 | mount isa\n",
      "http://api.openweathermap.org/data/2.5/weather?units=Imperial&APPID=c27676020d2317d0bc4c0da9a0b6cabc\n",
      "Processing record 24 of set 0 | ushuaia\n",
      "http://api.openweathermap.org/data/2.5/weather?units=Imperial&APPID=c27676020d2317d0bc4c0da9a0b6cabc\n",
      "Processing record 25 of set 0 | rikitea\n",
      "http://api.openweathermap.org/data/2.5/weather?units=Imperial&APPID=c27676020d2317d0bc4c0da9a0b6cabc\n",
      "Processing record 26 of set 0 | new norfolk\n",
      "http://api.openweathermap.org/data/2.5/weather?units=Imperial&APPID=c27676020d2317d0bc4c0da9a0b6cabc\n",
      "Processing record 27 of set 0 | qrendi\n",
      "http://api.openweathermap.org/data/2.5/weather?units=Imperial&APPID=c27676020d2317d0bc4c0da9a0b6cabc\n",
      "Processing record 28 of set 0 | alofi\n",
      "http://api.openweathermap.org/data/2.5/weather?units=Imperial&APPID=c27676020d2317d0bc4c0da9a0b6cabc\n",
      "Processing record 29 of set 0 | hermanus\n",
      "http://api.openweathermap.org/data/2.5/weather?units=Imperial&APPID=c27676020d2317d0bc4c0da9a0b6cabc\n",
      "Processing record 30 of set 0 | tidore\n",
      "http://api.openweathermap.org/data/2.5/weather?units=Imperial&APPID=c27676020d2317d0bc4c0da9a0b6cabc\n",
      "City not found!\n",
      "Processing record 31 of set 0 | kashi\n",
      "http://api.openweathermap.org/data/2.5/weather?units=Imperial&APPID=c27676020d2317d0bc4c0da9a0b6cabc\n",
      "Processing record 32 of set 0 | illoqqortoormiut\n",
      "http://api.openweathermap.org/data/2.5/weather?units=Imperial&APPID=c27676020d2317d0bc4c0da9a0b6cabc\n",
      "City not found!\n",
      "Processing record 33 of set 0 | havre-saint-pierre\n",
      "http://api.openweathermap.org/data/2.5/weather?units=Imperial&APPID=c27676020d2317d0bc4c0da9a0b6cabc\n",
      "Processing record 34 of set 0 | busselton\n",
      "http://api.openweathermap.org/data/2.5/weather?units=Imperial&APPID=c27676020d2317d0bc4c0da9a0b6cabc\n",
      "Processing record 35 of set 0 | hobart\n",
      "http://api.openweathermap.org/data/2.5/weather?units=Imperial&APPID=c27676020d2317d0bc4c0da9a0b6cabc\n",
      "Processing record 36 of set 0 | caravelas\n",
      "http://api.openweathermap.org/data/2.5/weather?units=Imperial&APPID=c27676020d2317d0bc4c0da9a0b6cabc\n",
      "Processing record 37 of set 0 | cidreira\n",
      "http://api.openweathermap.org/data/2.5/weather?units=Imperial&APPID=c27676020d2317d0bc4c0da9a0b6cabc\n",
      "Processing record 38 of set 0 | trincomalee\n",
      "http://api.openweathermap.org/data/2.5/weather?units=Imperial&APPID=c27676020d2317d0bc4c0da9a0b6cabc\n",
      "Processing record 39 of set 0 | atuona\n",
      "http://api.openweathermap.org/data/2.5/weather?units=Imperial&APPID=c27676020d2317d0bc4c0da9a0b6cabc\n",
      "Processing record 40 of set 0 | bambanglipuro\n",
      "http://api.openweathermap.org/data/2.5/weather?units=Imperial&APPID=c27676020d2317d0bc4c0da9a0b6cabc\n",
      "Processing record 41 of set 0 | thompson\n",
      "http://api.openweathermap.org/data/2.5/weather?units=Imperial&APPID=c27676020d2317d0bc4c0da9a0b6cabc\n",
      "Processing record 42 of set 0 | tuktoyaktuk\n",
      "http://api.openweathermap.org/data/2.5/weather?units=Imperial&APPID=c27676020d2317d0bc4c0da9a0b6cabc\n",
      "Processing record 43 of set 0 | dikson\n",
      "http://api.openweathermap.org/data/2.5/weather?units=Imperial&APPID=c27676020d2317d0bc4c0da9a0b6cabc\n",
      "Processing record 44 of set 0 | bluff\n",
      "http://api.openweathermap.org/data/2.5/weather?units=Imperial&APPID=c27676020d2317d0bc4c0da9a0b6cabc\n",
      "Processing record 45 of set 0 | arraial do cabo\n",
      "http://api.openweathermap.org/data/2.5/weather?units=Imperial&APPID=c27676020d2317d0bc4c0da9a0b6cabc\n",
      "Processing record 46 of set 0 | avarua\n",
      "http://api.openweathermap.org/data/2.5/weather?units=Imperial&APPID=c27676020d2317d0bc4c0da9a0b6cabc\n",
      "Processing record 47 of set 0 | cascais\n",
      "http://api.openweathermap.org/data/2.5/weather?units=Imperial&APPID=c27676020d2317d0bc4c0da9a0b6cabc\n",
      "Processing record 48 of set 0 | lagoa\n",
      "http://api.openweathermap.org/data/2.5/weather?units=Imperial&APPID=c27676020d2317d0bc4c0da9a0b6cabc\n",
      "Processing record 49 of set 0 | kamaishi\n",
      "http://api.openweathermap.org/data/2.5/weather?units=Imperial&APPID=c27676020d2317d0bc4c0da9a0b6cabc\n",
      "Processing record 50 of set 0 | port alfred\n",
      "http://api.openweathermap.org/data/2.5/weather?units=Imperial&APPID=c27676020d2317d0bc4c0da9a0b6cabc\n",
      "Processing record 0 of set 1 | jacqueville\n",
      "http://api.openweathermap.org/data/2.5/weather?units=Imperial&APPID=c27676020d2317d0bc4c0da9a0b6cabc\n",
      "Processing record 1 of set 1 | butaritari\n",
      "http://api.openweathermap.org/data/2.5/weather?units=Imperial&APPID=c27676020d2317d0bc4c0da9a0b6cabc\n",
      "Processing record 2 of set 1 | krasnaya gora\n",
      "http://api.openweathermap.org/data/2.5/weather?units=Imperial&APPID=c27676020d2317d0bc4c0da9a0b6cabc\n",
      "Processing record 3 of set 1 | vaini\n",
      "http://api.openweathermap.org/data/2.5/weather?units=Imperial&APPID=c27676020d2317d0bc4c0da9a0b6cabc\n",
      "Processing record 4 of set 1 | seymchan\n",
      "http://api.openweathermap.org/data/2.5/weather?units=Imperial&APPID=c27676020d2317d0bc4c0da9a0b6cabc\n",
      "Processing record 5 of set 1 | aykhal\n",
      "http://api.openweathermap.org/data/2.5/weather?units=Imperial&APPID=c27676020d2317d0bc4c0da9a0b6cabc\n",
      "Processing record 6 of set 1 | moindou\n",
      "http://api.openweathermap.org/data/2.5/weather?units=Imperial&APPID=c27676020d2317d0bc4c0da9a0b6cabc\n"
     ]
    },
    {
     "name": "stdout",
     "output_type": "stream",
     "text": [
      "Processing record 7 of set 1 | nizhneyansk\n",
      "http://api.openweathermap.org/data/2.5/weather?units=Imperial&APPID=c27676020d2317d0bc4c0da9a0b6cabc\n",
      "City not found!\n",
      "Processing record 8 of set 1 | sorland\n",
      "http://api.openweathermap.org/data/2.5/weather?units=Imperial&APPID=c27676020d2317d0bc4c0da9a0b6cabc\n",
      "Processing record 9 of set 1 | esperance\n",
      "http://api.openweathermap.org/data/2.5/weather?units=Imperial&APPID=c27676020d2317d0bc4c0da9a0b6cabc\n",
      "Processing record 10 of set 1 | eyemouth\n",
      "http://api.openweathermap.org/data/2.5/weather?units=Imperial&APPID=c27676020d2317d0bc4c0da9a0b6cabc\n",
      "Processing record 11 of set 1 | tura\n",
      "http://api.openweathermap.org/data/2.5/weather?units=Imperial&APPID=c27676020d2317d0bc4c0da9a0b6cabc\n",
      "Processing record 12 of set 1 | clyde river\n",
      "http://api.openweathermap.org/data/2.5/weather?units=Imperial&APPID=c27676020d2317d0bc4c0da9a0b6cabc\n",
      "Processing record 13 of set 1 | mahebourg\n",
      "http://api.openweathermap.org/data/2.5/weather?units=Imperial&APPID=c27676020d2317d0bc4c0da9a0b6cabc\n",
      "Processing record 14 of set 1 | teguise\n",
      "http://api.openweathermap.org/data/2.5/weather?units=Imperial&APPID=c27676020d2317d0bc4c0da9a0b6cabc\n",
      "Processing record 15 of set 1 | qaanaaq\n",
      "http://api.openweathermap.org/data/2.5/weather?units=Imperial&APPID=c27676020d2317d0bc4c0da9a0b6cabc\n",
      "Processing record 16 of set 1 | korla\n",
      "http://api.openweathermap.org/data/2.5/weather?units=Imperial&APPID=c27676020d2317d0bc4c0da9a0b6cabc\n",
      "Processing record 17 of set 1 | kruisfontein\n",
      "http://api.openweathermap.org/data/2.5/weather?units=Imperial&APPID=c27676020d2317d0bc4c0da9a0b6cabc\n",
      "Processing record 18 of set 1 | airai\n",
      "http://api.openweathermap.org/data/2.5/weather?units=Imperial&APPID=c27676020d2317d0bc4c0da9a0b6cabc\n",
      "Processing record 19 of set 1 | nome\n",
      "http://api.openweathermap.org/data/2.5/weather?units=Imperial&APPID=c27676020d2317d0bc4c0da9a0b6cabc\n",
      "Processing record 20 of set 1 | bredasdorp\n",
      "http://api.openweathermap.org/data/2.5/weather?units=Imperial&APPID=c27676020d2317d0bc4c0da9a0b6cabc\n",
      "Processing record 21 of set 1 | provideniya\n",
      "http://api.openweathermap.org/data/2.5/weather?units=Imperial&APPID=c27676020d2317d0bc4c0da9a0b6cabc\n",
      "Processing record 22 of set 1 | karaul\n",
      "http://api.openweathermap.org/data/2.5/weather?units=Imperial&APPID=c27676020d2317d0bc4c0da9a0b6cabc\n",
      "City not found!\n",
      "Processing record 23 of set 1 | manggar\n",
      "http://api.openweathermap.org/data/2.5/weather?units=Imperial&APPID=c27676020d2317d0bc4c0da9a0b6cabc\n",
      "Processing record 24 of set 1 | almenevo\n",
      "http://api.openweathermap.org/data/2.5/weather?units=Imperial&APPID=c27676020d2317d0bc4c0da9a0b6cabc\n",
      "City not found!\n",
      "Processing record 25 of set 1 | baykit\n",
      "http://api.openweathermap.org/data/2.5/weather?units=Imperial&APPID=c27676020d2317d0bc4c0da9a0b6cabc\n",
      "Processing record 26 of set 1 | ginda\n",
      "http://api.openweathermap.org/data/2.5/weather?units=Imperial&APPID=c27676020d2317d0bc4c0da9a0b6cabc\n",
      "Processing record 27 of set 1 | princeton\n",
      "http://api.openweathermap.org/data/2.5/weather?units=Imperial&APPID=c27676020d2317d0bc4c0da9a0b6cabc\n",
      "Processing record 28 of set 1 | saskylakh\n",
      "http://api.openweathermap.org/data/2.5/weather?units=Imperial&APPID=c27676020d2317d0bc4c0da9a0b6cabc\n",
      "Processing record 29 of set 1 | torbay\n",
      "http://api.openweathermap.org/data/2.5/weather?units=Imperial&APPID=c27676020d2317d0bc4c0da9a0b6cabc\n",
      "Processing record 30 of set 1 | bastia\n",
      "http://api.openweathermap.org/data/2.5/weather?units=Imperial&APPID=c27676020d2317d0bc4c0da9a0b6cabc\n",
      "Processing record 31 of set 1 | saint anthony\n",
      "http://api.openweathermap.org/data/2.5/weather?units=Imperial&APPID=c27676020d2317d0bc4c0da9a0b6cabc\n",
      "Processing record 32 of set 1 | puerto maldonado\n",
      "http://api.openweathermap.org/data/2.5/weather?units=Imperial&APPID=c27676020d2317d0bc4c0da9a0b6cabc\n",
      "Processing record 33 of set 1 | entre rios\n",
      "http://api.openweathermap.org/data/2.5/weather?units=Imperial&APPID=c27676020d2317d0bc4c0da9a0b6cabc\n",
      "Processing record 34 of set 1 | codrington\n",
      "http://api.openweathermap.org/data/2.5/weather?units=Imperial&APPID=c27676020d2317d0bc4c0da9a0b6cabc\n",
      "Processing record 35 of set 1 | cardston\n",
      "http://api.openweathermap.org/data/2.5/weather?units=Imperial&APPID=c27676020d2317d0bc4c0da9a0b6cabc\n",
      "Processing record 36 of set 1 | castro\n",
      "http://api.openweathermap.org/data/2.5/weather?units=Imperial&APPID=c27676020d2317d0bc4c0da9a0b6cabc\n",
      "Processing record 37 of set 1 | salalah\n",
      "http://api.openweathermap.org/data/2.5/weather?units=Imperial&APPID=c27676020d2317d0bc4c0da9a0b6cabc\n",
      "Processing record 38 of set 1 | kainantu\n",
      "http://api.openweathermap.org/data/2.5/weather?units=Imperial&APPID=c27676020d2317d0bc4c0da9a0b6cabc\n",
      "Processing record 39 of set 1 | goderich\n",
      "http://api.openweathermap.org/data/2.5/weather?units=Imperial&APPID=c27676020d2317d0bc4c0da9a0b6cabc\n",
      "Processing record 40 of set 1 | te anau\n",
      "http://api.openweathermap.org/data/2.5/weather?units=Imperial&APPID=c27676020d2317d0bc4c0da9a0b6cabc\n",
      "Processing record 41 of set 1 | ancona\n",
      "http://api.openweathermap.org/data/2.5/weather?units=Imperial&APPID=c27676020d2317d0bc4c0da9a0b6cabc\n",
      "Processing record 42 of set 1 | payson\n",
      "http://api.openweathermap.org/data/2.5/weather?units=Imperial&APPID=c27676020d2317d0bc4c0da9a0b6cabc\n",
      "Processing record 43 of set 1 | ribeira grande\n",
      "http://api.openweathermap.org/data/2.5/weather?units=Imperial&APPID=c27676020d2317d0bc4c0da9a0b6cabc\n",
      "Processing record 44 of set 1 | deniliquin\n",
      "http://api.openweathermap.org/data/2.5/weather?units=Imperial&APPID=c27676020d2317d0bc4c0da9a0b6cabc\n",
      "Processing record 45 of set 1 | ikwiriri\n",
      "http://api.openweathermap.org/data/2.5/weather?units=Imperial&APPID=c27676020d2317d0bc4c0da9a0b6cabc\n",
      "Processing record 46 of set 1 | nikolskoye\n",
      "http://api.openweathermap.org/data/2.5/weather?units=Imperial&APPID=c27676020d2317d0bc4c0da9a0b6cabc\n",
      "Processing record 47 of set 1 | tulsipur\n",
      "http://api.openweathermap.org/data/2.5/weather?units=Imperial&APPID=c27676020d2317d0bc4c0da9a0b6cabc\n",
      "Processing record 48 of set 1 | karratha\n",
      "http://api.openweathermap.org/data/2.5/weather?units=Imperial&APPID=c27676020d2317d0bc4c0da9a0b6cabc\n",
      "Processing record 49 of set 1 | bambous virieux\n",
      "http://api.openweathermap.org/data/2.5/weather?units=Imperial&APPID=c27676020d2317d0bc4c0da9a0b6cabc\n",
      "Processing record 50 of set 1 | belushya guba\n",
      "http://api.openweathermap.org/data/2.5/weather?units=Imperial&APPID=c27676020d2317d0bc4c0da9a0b6cabc\n",
      "City not found!\n",
      "Processing record 0 of set 2 | jomalig\n",
      "http://api.openweathermap.org/data/2.5/weather?units=Imperial&APPID=c27676020d2317d0bc4c0da9a0b6cabc\n",
      "City not found!\n",
      "Processing record 1 of set 2 | samarai\n",
      "http://api.openweathermap.org/data/2.5/weather?units=Imperial&APPID=c27676020d2317d0bc4c0da9a0b6cabc\n",
      "Processing record 2 of set 2 | tasiilaq\n",
      "http://api.openweathermap.org/data/2.5/weather?units=Imperial&APPID=c27676020d2317d0bc4c0da9a0b6cabc\n",
      "Processing record 3 of set 2 | tigil\n",
      "http://api.openweathermap.org/data/2.5/weather?units=Imperial&APPID=c27676020d2317d0bc4c0da9a0b6cabc\n",
      "Processing record 4 of set 2 | trapani\n",
      "http://api.openweathermap.org/data/2.5/weather?units=Imperial&APPID=c27676020d2317d0bc4c0da9a0b6cabc\n",
      "Processing record 5 of set 2 | whitianga\n",
      "http://api.openweathermap.org/data/2.5/weather?units=Imperial&APPID=c27676020d2317d0bc4c0da9a0b6cabc\n",
      "Processing record 6 of set 2 | portland\n",
      "http://api.openweathermap.org/data/2.5/weather?units=Imperial&APPID=c27676020d2317d0bc4c0da9a0b6cabc\n",
      "Processing record 7 of set 2 | port moresby\n",
      "http://api.openweathermap.org/data/2.5/weather?units=Imperial&APPID=c27676020d2317d0bc4c0da9a0b6cabc\n",
      "Processing record 8 of set 2 | kuching\n",
      "http://api.openweathermap.org/data/2.5/weather?units=Imperial&APPID=c27676020d2317d0bc4c0da9a0b6cabc\n",
      "Processing record 9 of set 2 | cape town\n",
      "http://api.openweathermap.org/data/2.5/weather?units=Imperial&APPID=c27676020d2317d0bc4c0da9a0b6cabc\n",
      "Processing record 10 of set 2 | asau\n",
      "http://api.openweathermap.org/data/2.5/weather?units=Imperial&APPID=c27676020d2317d0bc4c0da9a0b6cabc\n",
      "Processing record 11 of set 2 | vaitape\n",
      "http://api.openweathermap.org/data/2.5/weather?units=Imperial&APPID=c27676020d2317d0bc4c0da9a0b6cabc\n",
      "Processing record 12 of set 2 | cuiluan\n",
      "http://api.openweathermap.org/data/2.5/weather?units=Imperial&APPID=c27676020d2317d0bc4c0da9a0b6cabc\n",
      "Processing record 13 of set 2 | chokurdakh\n",
      "http://api.openweathermap.org/data/2.5/weather?units=Imperial&APPID=c27676020d2317d0bc4c0da9a0b6cabc\n",
      "Processing record 14 of set 2 | gold coast\n",
      "http://api.openweathermap.org/data/2.5/weather?units=Imperial&APPID=c27676020d2317d0bc4c0da9a0b6cabc\n"
     ]
    },
    {
     "name": "stdout",
     "output_type": "stream",
     "text": [
      "Processing record 15 of set 2 | sedhiou\n",
      "http://api.openweathermap.org/data/2.5/weather?units=Imperial&APPID=c27676020d2317d0bc4c0da9a0b6cabc\n",
      "Processing record 16 of set 2 | zhoucheng\n",
      "http://api.openweathermap.org/data/2.5/weather?units=Imperial&APPID=c27676020d2317d0bc4c0da9a0b6cabc\n",
      "Processing record 17 of set 2 | trofors\n",
      "http://api.openweathermap.org/data/2.5/weather?units=Imperial&APPID=c27676020d2317d0bc4c0da9a0b6cabc\n",
      "Processing record 18 of set 2 | kutum\n",
      "http://api.openweathermap.org/data/2.5/weather?units=Imperial&APPID=c27676020d2317d0bc4c0da9a0b6cabc\n",
      "Processing record 19 of set 2 | christchurch\n",
      "http://api.openweathermap.org/data/2.5/weather?units=Imperial&APPID=c27676020d2317d0bc4c0da9a0b6cabc\n",
      "Processing record 20 of set 2 | skelleftea\n",
      "http://api.openweathermap.org/data/2.5/weather?units=Imperial&APPID=c27676020d2317d0bc4c0da9a0b6cabc\n",
      "Processing record 21 of set 2 | saleaula\n",
      "http://api.openweathermap.org/data/2.5/weather?units=Imperial&APPID=c27676020d2317d0bc4c0da9a0b6cabc\n",
      "City not found!\n",
      "Processing record 22 of set 2 | brae\n",
      "http://api.openweathermap.org/data/2.5/weather?units=Imperial&APPID=c27676020d2317d0bc4c0da9a0b6cabc\n",
      "Processing record 23 of set 2 | kahului\n",
      "http://api.openweathermap.org/data/2.5/weather?units=Imperial&APPID=c27676020d2317d0bc4c0da9a0b6cabc\n",
      "Processing record 24 of set 2 | jamestown\n",
      "http://api.openweathermap.org/data/2.5/weather?units=Imperial&APPID=c27676020d2317d0bc4c0da9a0b6cabc\n",
      "Processing record 25 of set 2 | nelson bay\n",
      "http://api.openweathermap.org/data/2.5/weather?units=Imperial&APPID=c27676020d2317d0bc4c0da9a0b6cabc\n",
      "Processing record 26 of set 2 | lashio\n",
      "http://api.openweathermap.org/data/2.5/weather?units=Imperial&APPID=c27676020d2317d0bc4c0da9a0b6cabc\n",
      "Processing record 27 of set 2 | kodiak\n",
      "http://api.openweathermap.org/data/2.5/weather?units=Imperial&APPID=c27676020d2317d0bc4c0da9a0b6cabc\n",
      "Processing record 28 of set 2 | hualmay\n",
      "http://api.openweathermap.org/data/2.5/weather?units=Imperial&APPID=c27676020d2317d0bc4c0da9a0b6cabc\n",
      "Processing record 29 of set 2 | kapaa\n",
      "http://api.openweathermap.org/data/2.5/weather?units=Imperial&APPID=c27676020d2317d0bc4c0da9a0b6cabc\n",
      "Processing record 30 of set 2 | shahr-e babak\n",
      "http://api.openweathermap.org/data/2.5/weather?units=Imperial&APPID=c27676020d2317d0bc4c0da9a0b6cabc\n",
      "Processing record 31 of set 2 | deputatskiy\n",
      "http://api.openweathermap.org/data/2.5/weather?units=Imperial&APPID=c27676020d2317d0bc4c0da9a0b6cabc\n",
      "Processing record 32 of set 2 | san joaquin\n",
      "http://api.openweathermap.org/data/2.5/weather?units=Imperial&APPID=c27676020d2317d0bc4c0da9a0b6cabc\n",
      "Processing record 33 of set 2 | mahon\n",
      "http://api.openweathermap.org/data/2.5/weather?units=Imperial&APPID=c27676020d2317d0bc4c0da9a0b6cabc\n",
      "Processing record 34 of set 2 | tiksi\n",
      "http://api.openweathermap.org/data/2.5/weather?units=Imperial&APPID=c27676020d2317d0bc4c0da9a0b6cabc\n",
      "Processing record 35 of set 2 | labuhan\n",
      "http://api.openweathermap.org/data/2.5/weather?units=Imperial&APPID=c27676020d2317d0bc4c0da9a0b6cabc\n",
      "Processing record 36 of set 2 | saint-pierre\n",
      "http://api.openweathermap.org/data/2.5/weather?units=Imperial&APPID=c27676020d2317d0bc4c0da9a0b6cabc\n",
      "Processing record 37 of set 2 | severo-kurilsk\n",
      "http://api.openweathermap.org/data/2.5/weather?units=Imperial&APPID=c27676020d2317d0bc4c0da9a0b6cabc\n",
      "Processing record 38 of set 2 | the valley\n",
      "http://api.openweathermap.org/data/2.5/weather?units=Imperial&APPID=c27676020d2317d0bc4c0da9a0b6cabc\n",
      "Processing record 39 of set 2 | barrow\n",
      "http://api.openweathermap.org/data/2.5/weather?units=Imperial&APPID=c27676020d2317d0bc4c0da9a0b6cabc\n",
      "Processing record 40 of set 2 | georgetown\n",
      "http://api.openweathermap.org/data/2.5/weather?units=Imperial&APPID=c27676020d2317d0bc4c0da9a0b6cabc\n",
      "Processing record 41 of set 2 | flin flon\n",
      "http://api.openweathermap.org/data/2.5/weather?units=Imperial&APPID=c27676020d2317d0bc4c0da9a0b6cabc\n",
      "Processing record 42 of set 2 | quatre cocos\n",
      "http://api.openweathermap.org/data/2.5/weather?units=Imperial&APPID=c27676020d2317d0bc4c0da9a0b6cabc\n",
      "Processing record 43 of set 2 | aripuana\n",
      "http://api.openweathermap.org/data/2.5/weather?units=Imperial&APPID=c27676020d2317d0bc4c0da9a0b6cabc\n",
      "Processing record 44 of set 2 | aklavik\n",
      "http://api.openweathermap.org/data/2.5/weather?units=Imperial&APPID=c27676020d2317d0bc4c0da9a0b6cabc\n",
      "Processing record 45 of set 2 | tillabery\n",
      "http://api.openweathermap.org/data/2.5/weather?units=Imperial&APPID=c27676020d2317d0bc4c0da9a0b6cabc\n",
      "City not found!\n",
      "Processing record 46 of set 2 | sentyabrskiy\n",
      "http://api.openweathermap.org/data/2.5/weather?units=Imperial&APPID=c27676020d2317d0bc4c0da9a0b6cabc\n",
      "City not found!\n",
      "Processing record 47 of set 2 | brooks\n",
      "http://api.openweathermap.org/data/2.5/weather?units=Imperial&APPID=c27676020d2317d0bc4c0da9a0b6cabc\n",
      "Processing record 48 of set 2 | leeston\n",
      "http://api.openweathermap.org/data/2.5/weather?units=Imperial&APPID=c27676020d2317d0bc4c0da9a0b6cabc\n",
      "Processing record 49 of set 2 | ust-barguzin\n",
      "http://api.openweathermap.org/data/2.5/weather?units=Imperial&APPID=c27676020d2317d0bc4c0da9a0b6cabc\n",
      "Processing record 50 of set 2 | bethel\n",
      "http://api.openweathermap.org/data/2.5/weather?units=Imperial&APPID=c27676020d2317d0bc4c0da9a0b6cabc\n",
      "Processing record 0 of set 3 | kovernino\n",
      "http://api.openweathermap.org/data/2.5/weather?units=Imperial&APPID=c27676020d2317d0bc4c0da9a0b6cabc\n",
      "Processing record 1 of set 3 | yellowknife\n",
      "http://api.openweathermap.org/data/2.5/weather?units=Imperial&APPID=c27676020d2317d0bc4c0da9a0b6cabc\n"
     ]
    }
   ],
   "source": [
    "record_counter = 0\n",
    "set_counter = 0\n",
    "# Starting URL for Weather Map API Call\n",
    "url = \"http://api.openweathermap.org/data/2.5/weather?units=Imperial&APPID=\" + weather_api_key \n",
    "print('------------------------')\n",
    "print('Beginning Data Retrieval')\n",
    "print('------------------------')\n",
    "\n",
    "for city in cities:\n",
    "    query_url = url + \"&q=\" + city\n",
    "    # Get weather data\n",
    "    response = requests.get(query_url).json()\n",
    "    if record_counter < 50:\n",
    "        record_counter += 1\n",
    "    else:\n",
    "        set_counter += 1\n",
    "        record_counter = 0\n",
    "\n",
    "    print('Processing record {} of set {} | {}'.format(record_counter, set_counter, city))\n",
    "    print(url)\n",
    "    try:\n",
    "        cloudiness.append(response['clouds']['all'])\n",
    "        country.append(response['sys']['country'])\n",
    "        date.append(response['dt'])\n",
    "        humidity.append(response['main']['humidity'])\n",
    "        temp.append(response['main']['temp_max'])\n",
    "        lat.append(response['coord']['lat'])\n",
    "        lng.append(response['coord']['lon'])\n",
    "        wind.append(response['wind']['speed'])\n",
    "        new_cities.append(city)\n",
    "    except:\n",
    "        print(\"City not found!\")\n",
    "        pass\n",
    "\n",
    "print('-------------------------')\n",
    "print('Data Retrieval Complete')\n",
    "print('-------------------------')"
   ]
  },
  {
   "cell_type": "markdown",
   "metadata": {},
   "source": [
    "### Convert Raw Data to DataFrame\n",
    "* Export the city data into a .csv.\n",
    "* Display the DataFrame"
   ]
  },
  {
   "cell_type": "code",
   "execution_count": null,
   "metadata": {},
   "outputs": [],
   "source": [
    "weather_dict = {\n",
    "    \"City\": new_cities,\n",
    "    \"Cloudiness\" : cloudiness,\n",
    "    \"Country\" : country,\n",
    "    \"Date\" : date,\n",
    "    \"Humidity\" : humidity,\n",
    "    \"Temp\": temp,\n",
    "    \"Lat\" : lat,\n",
    "    \"Lng\" : lng,   \n",
    "    \"Wind Speed\" : wind\n",
    "}\n",
    "city_data = pd.DataFrame(weather_dict)\n",
    "city_data.count()\n"
   ]
  },
  {
   "cell_type": "code",
   "execution_count": null,
   "metadata": {},
   "outputs": [],
   "source": [
    "city_data.head()"
   ]
  },
  {
   "cell_type": "code",
   "execution_count": null,
   "metadata": {},
   "outputs": [],
   "source": [
    "city_data.to_csv(\"output_data/cities.csv\", index = False)"
   ]
  },
  {
   "cell_type": "markdown",
   "metadata": {},
   "source": [
    "## Inspect the data and remove the cities where the humidity > 100%.\n",
    "----\n",
    "Skip this step if there are no cities that have humidity > 100%. "
   ]
  },
  {
   "cell_type": "code",
   "execution_count": null,
   "metadata": {},
   "outputs": [],
   "source": []
  },
  {
   "cell_type": "code",
   "execution_count": null,
   "metadata": {},
   "outputs": [],
   "source": [
    "#  Get the indices of cities that have humidity over 100%.\n"
   ]
  },
  {
   "cell_type": "code",
   "execution_count": null,
   "metadata": {},
   "outputs": [],
   "source": [
    "# Make a new DataFrame equal to the city data to drop all humidity outliers by index.\n",
    "# Passing \"inplace=False\" will make a copy of the city_data DataFrame, which we call \"clean_city_data\".\n"
   ]
  },
  {
   "cell_type": "code",
   "execution_count": null,
   "metadata": {},
   "outputs": [],
   "source": [
    "\n"
   ]
  },
  {
   "cell_type": "markdown",
   "metadata": {},
   "source": [
    "## Plotting the Data\n",
    "* Use proper labeling of the plots using plot titles (including date of analysis) and axes labels.\n",
    "* Save the plotted figures as .pngs."
   ]
  },
  {
   "cell_type": "markdown",
   "metadata": {},
   "source": [
    "## Latitude vs. Temperature Plot"
   ]
  },
  {
   "cell_type": "code",
   "execution_count": null,
   "metadata": {
    "scrolled": true
   },
   "outputs": [],
   "source": []
  },
  {
   "cell_type": "markdown",
   "metadata": {},
   "source": [
    "## Latitude vs. Humidity Plot"
   ]
  },
  {
   "cell_type": "code",
   "execution_count": null,
   "metadata": {},
   "outputs": [],
   "source": []
  },
  {
   "cell_type": "markdown",
   "metadata": {},
   "source": [
    "## Latitude vs. Cloudiness Plot"
   ]
  },
  {
   "cell_type": "code",
   "execution_count": null,
   "metadata": {},
   "outputs": [],
   "source": []
  },
  {
   "cell_type": "markdown",
   "metadata": {},
   "source": [
    "## Latitude vs. Wind Speed Plot"
   ]
  },
  {
   "cell_type": "code",
   "execution_count": null,
   "metadata": {},
   "outputs": [],
   "source": []
  },
  {
   "cell_type": "markdown",
   "metadata": {},
   "source": [
    "## Linear Regression"
   ]
  },
  {
   "cell_type": "code",
   "execution_count": null,
   "metadata": {},
   "outputs": [],
   "source": []
  },
  {
   "cell_type": "markdown",
   "metadata": {},
   "source": [
    "####  Northern Hemisphere - Max Temp vs. Latitude Linear Regression"
   ]
  },
  {
   "cell_type": "code",
   "execution_count": null,
   "metadata": {},
   "outputs": [],
   "source": []
  },
  {
   "cell_type": "markdown",
   "metadata": {},
   "source": [
    "####  Southern Hemisphere - Max Temp vs. Latitude Linear Regression"
   ]
  },
  {
   "cell_type": "code",
   "execution_count": null,
   "metadata": {},
   "outputs": [],
   "source": []
  },
  {
   "cell_type": "markdown",
   "metadata": {},
   "source": [
    "####  Northern Hemisphere - Humidity (%) vs. Latitude Linear Regression"
   ]
  },
  {
   "cell_type": "code",
   "execution_count": null,
   "metadata": {},
   "outputs": [],
   "source": []
  },
  {
   "cell_type": "markdown",
   "metadata": {},
   "source": [
    "####  Southern Hemisphere - Humidity (%) vs. Latitude Linear Regression"
   ]
  },
  {
   "cell_type": "code",
   "execution_count": null,
   "metadata": {},
   "outputs": [],
   "source": []
  },
  {
   "cell_type": "markdown",
   "metadata": {},
   "source": [
    "####  Northern Hemisphere - Cloudiness (%) vs. Latitude Linear Regression"
   ]
  },
  {
   "cell_type": "code",
   "execution_count": null,
   "metadata": {},
   "outputs": [],
   "source": []
  },
  {
   "cell_type": "markdown",
   "metadata": {},
   "source": [
    "####  Southern Hemisphere - Cloudiness (%) vs. Latitude Linear Regression"
   ]
  },
  {
   "cell_type": "code",
   "execution_count": null,
   "metadata": {},
   "outputs": [],
   "source": []
  },
  {
   "cell_type": "markdown",
   "metadata": {},
   "source": [
    "####  Northern Hemisphere - Wind Speed (mph) vs. Latitude Linear Regression"
   ]
  },
  {
   "cell_type": "code",
   "execution_count": null,
   "metadata": {},
   "outputs": [],
   "source": []
  },
  {
   "cell_type": "markdown",
   "metadata": {},
   "source": [
    "####  Southern Hemisphere - Wind Speed (mph) vs. Latitude Linear Regression"
   ]
  },
  {
   "cell_type": "code",
   "execution_count": null,
   "metadata": {},
   "outputs": [],
   "source": []
  },
  {
   "cell_type": "code",
   "execution_count": null,
   "metadata": {},
   "outputs": [],
   "source": []
  }
 ],
 "metadata": {
  "anaconda-cloud": {},
  "kernel_info": {
   "name": "python3"
  },
  "kernelspec": {
   "display_name": "Python 3",
   "language": "python",
   "name": "python3"
  },
  "language_info": {
   "codemirror_mode": {
    "name": "ipython",
    "version": 3
   },
   "file_extension": ".py",
   "mimetype": "text/x-python",
   "name": "python",
   "nbconvert_exporter": "python",
   "pygments_lexer": "ipython3",
   "version": "3.8.5"
  },
  "latex_envs": {
   "LaTeX_envs_menu_present": true,
   "autoclose": false,
   "autocomplete": true,
   "bibliofile": "biblio.bib",
   "cite_by": "apalike",
   "current_citInitial": 1,
   "eqLabelWithNumbers": true,
   "eqNumInitial": 1,
   "hotkeys": {
    "equation": "Ctrl-E",
    "itemize": "Ctrl-I"
   },
   "labels_anchors": false,
   "latex_user_defs": false,
   "report_style_numbering": false,
   "user_envs_cfg": false
  },
  "nteract": {
   "version": "0.12.3"
  }
 },
 "nbformat": 4,
 "nbformat_minor": 2
}
